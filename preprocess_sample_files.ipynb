{
 "cells": [
  {
   "cell_type": "code",
   "execution_count": 38,
   "id": "f8f76c0e",
   "metadata": {},
   "outputs": [
    {
     "name": "stdout",
     "output_type": "stream",
     "text": [
      "['50.25' '45.75' '100.00' '49.50' '99.75' '42.75' '53.75' '50.00' '54.89'\n",
      " '43.36' '48.25' '98.25' '40.25' '48.75' '49.25' '99.50' '98.74' '49.75'\n",
      " '50.75' '47.50' '51.50' '52.31' '48.36' '51.75' '46.75' '48.50' '46.00'\n",
      " '46.87' '48.73' '39.75' '43.72' '99.25' '98.75' '44.54' '46.50' '52.26'\n",
      " '50.50' '47.87' '98.15' '57.73' '46.26'\n",
      " 'TAAAAA=26.57,TAAAAAAT=36.36,TAAAAAT=37.06' '92.31' '92.17' '92.24'\n",
      " '90.74' '48.00' '98.59' '54.09' '99.71' '52.01' '53.14'\n",
      " 'A=12.56,AA=36.93' '99.00' 'TGTT=5.23,TTG=8.31,TTGT=86.46' '46.12'\n",
      " '53.25' '42.92' '53.00' '47.00' '51.51' '51.21' '47.10' '50.15' '51.13'\n",
      " '55.25' 'A=0.00,AT=100.00' '97.49' 'TGGGG=31.14,TGGGGA=68.35' '99.49'\n",
      " '56.97' '52.75' '57.25' '45.50' '51.82' '49.12' '44.25' '45.25' '53.63'\n",
      " '98.24' '52.88' '44.22' '49.00' '51.25' '51.88' '49.62' '52.00' '45.31'\n",
      " '52.91' '54.25' '99.48' '53.13' '54.50' '89.47' '49.07' '88.72' '55.81'\n",
      " '45.73' '58.15' '54.57' '60.25' '54.41' '44.58' '43.25' '47.75' '99.04'\n",
      " '98.42']\n",
      "Index([62, 77, 81, 98, 106], dtype='int64')\n",
      "(177, 57)\n",
      "(172, 57)\n"
     ]
    },
    {
     "data": {
      "text/plain": [
       "57"
      ]
     },
     "execution_count": 38,
     "metadata": {},
     "output_type": "execute_result"
    }
   ],
   "source": [
    "import pandas as pd\n",
    "filename = './webapp/samples/57385_v1-full.tsv'\n",
    "filename = './56878_v1-full_wc.tsv'\n",
    "df = pd.read_csv(filename, delimiter='\\t', header=2)\n",
    "\n",
    "df.insert(allow_duplicates=True, loc = 13, value = 0, column = 'allele_frequency_%_corrected')\n",
    "df.insert(allow_duplicates=True, loc = 14, value = 0, column = 'zygosity')\n",
    "\n",
    "print(df['allele_frequency_%'].unique())\n",
    "# delete entries with multiple allele_frequencies\n",
    "\n",
    "corr_freq = df.loc[:, ['allele_frequency_%']]\n",
    "\n",
    "\n",
    "bases = ['TAAAAA=26.57,TAAAAAAT=36.36,TAAAAAT=37.06','A=12.56,AA=36.93','TGTT=5.23,TTG=8.31,TTGT=86.46','A=0.00,AT=100.00','TGGGG=31.14,TGGGGA=68.35', 'A=0.00,AT=100.00',\n",
    "         'AAAT=10.48,AA=39.52,AAT=45.16,AT=4.84', 'C=33.16,CCTG=0.26,CTG=0.00', 'TAAAAA=51.20,TAAAAAAT=22.49,TAAAAAT=0.00,TAAACAAAT=26.32']\n",
    "\n",
    "mask = corr_freq.isin(bases)\n",
    "print(mask.loc[mask['allele_frequency_%'] == True].index)\n",
    "print(df.shape)\n",
    "df.drop(mask.loc[mask['allele_frequency_%'] == True].index, inplace = True)\n",
    "print(df.shape)\n",
    "corr_freq = df.loc[:, ['allele_frequency_%']]\n",
    "\n",
    "corr_freq = corr_freq.astype('float')\n",
    "\n",
    "corr_freq = corr_freq.apply(lambda x: 100 - x)\n",
    "\n",
    "df['allele_frequency_%_corrected'] = corr_freq\n",
    "df.iloc[:, [1,2,3,10,11,12,13,14,15]].head()\n",
    "len(df.columns)"
   ]
  },
  {
   "cell_type": "code",
   "execution_count": 37,
   "id": "5f0f44f3",
   "metadata": {},
   "outputs": [
    {
     "name": "stdout",
     "output_type": "stream",
     "text": [
      "62\n",
      "77\n",
      "81\n",
      "98\n",
      "106\n"
     ]
    },
    {
     "data": {
      "text/plain": [
       "55"
      ]
     },
     "execution_count": 37,
     "metadata": {},
     "output_type": "execute_result"
    }
   ],
   "source": [
    "# code to check string length and drop rows with more than 5 chars\n",
    "import re\n",
    "filename = './56878_v1-full_wc.tsv'\n",
    "df = pd.read_csv(filename, delimiter='\\t', header=2)\n",
    "corr_freq = df.loc[:, ['allele_frequency_%']]\n",
    "drop_index = []\n",
    "\n",
    "for index,value in corr_freq['allele_frequency_%'].items():\n",
    "    val = re.search('[ATGCatgc=]', value)\n",
    "    if val is not None:\n",
    "        print(index)\n",
    "        drop_index.append(index)\n",
    "\n",
    "df.drop(drop_index, inplace = True)\n",
    "df.shape\n",
    "len(df.columns)"
   ]
  },
  {
   "cell_type": "code",
   "execution_count": 65,
   "id": "e7694b60",
   "metadata": {},
   "outputs": [
    {
     "name": "stderr",
     "output_type": "stream",
     "text": [
      "/var/folders/pt/vcfrx50j7vzg3gkz0bt7ykdr0000gn/T/ipykernel_21326/1153009908.py:3: SettingWithCopyWarning: \n",
      "A value is trying to be set on a copy of a slice from a DataFrame.\n",
      "Try using .loc[row_indexer,col_indexer] = value instead\n",
      "\n",
      "See the caveats in the documentation: https://pandas.pydata.org/pandas-docs/stable/user_guide/indexing.html#returning-a-view-versus-a-copy\n",
      "  df_snp['zygosity'] = homozygous\n"
     ]
    }
   ],
   "source": [
    "df_snp = df[df['type'] == 'SNV']\n",
    "homozygous = df_snp['allele_frequency_%_corrected'].map(lambda x: 'homozygous' if x < 10 else 'heterozygous' )\n",
    "df_snp['zygosity'] = homozygous\n",
    "df.update(df_snp)"
   ]
  },
  {
   "cell_type": "code",
   "execution_count": null,
   "id": "8c2e4c45",
   "metadata": {},
   "outputs": [],
   "source": []
  },
  {
   "cell_type": "code",
   "execution_count": 66,
   "id": "6fc09de1",
   "metadata": {},
   "outputs": [
    {
     "data": {
      "text/html": [
       "<div>\n",
       "<style scoped>\n",
       "    .dataframe tbody tr th:only-of-type {\n",
       "        vertical-align: middle;\n",
       "    }\n",
       "\n",
       "    .dataframe tbody tr th {\n",
       "        vertical-align: top;\n",
       "    }\n",
       "\n",
       "    .dataframe thead th {\n",
       "        text-align: right;\n",
       "    }\n",
       "</style>\n",
       "<table border=\"1\" class=\"dataframe\">\n",
       "  <thead>\n",
       "    <tr style=\"text-align: right;\">\n",
       "      <th></th>\n",
       "      <th>type</th>\n",
       "      <th>ref</th>\n",
       "      <th>allele_coverage</th>\n",
       "      <th>allele_ratio</th>\n",
       "      <th>allele_frequency_%</th>\n",
       "      <th>allele_frequency_%_corrected</th>\n",
       "      <th>zygosity</th>\n",
       "    </tr>\n",
       "  </thead>\n",
       "  <tbody>\n",
       "    <tr>\n",
       "      <th>175</th>\n",
       "      <td>SNV</td>\n",
       "      <td>G</td>\n",
       "      <td>G=3,A=187</td>\n",
       "      <td>G=0.0158,A=0.9842</td>\n",
       "      <td>98.42</td>\n",
       "      <td>1.58</td>\n",
       "      <td>homozygous</td>\n",
       "    </tr>\n",
       "    <tr>\n",
       "      <th>176</th>\n",
       "      <td>SNV</td>\n",
       "      <td>A</td>\n",
       "      <td>A=0,G=400</td>\n",
       "      <td>A=0.0,G=1.0</td>\n",
       "      <td>100.00</td>\n",
       "      <td>0.00</td>\n",
       "      <td>homozygous</td>\n",
       "    </tr>\n",
       "  </tbody>\n",
       "</table>\n",
       "</div>"
      ],
      "text/plain": [
       "    type ref allele_coverage       allele_ratio allele_frequency_%  \\\n",
       "175  SNV   G       G=3,A=187  G=0.0158,A=0.9842              98.42   \n",
       "176  SNV   A       A=0,G=400        A=0.0,G=1.0             100.00   \n",
       "\n",
       "     allele_frequency_%_corrected    zygosity  \n",
       "175                          1.58  homozygous  \n",
       "176                          0.00  homozygous  "
      ]
     },
     "execution_count": 66,
     "metadata": {},
     "output_type": "execute_result"
    }
   ],
   "source": [
    "cols = [1,2,10,11,12,13,14]\n",
    "df.iloc[170::, cols]"
   ]
  },
  {
   "cell_type": "code",
   "execution_count": 67,
   "id": "da969783",
   "metadata": {},
   "outputs": [
    {
     "data": {
      "text/html": [
       "<div>\n",
       "<style scoped>\n",
       "    .dataframe tbody tr th:only-of-type {\n",
       "        vertical-align: middle;\n",
       "    }\n",
       "\n",
       "    .dataframe tbody tr th {\n",
       "        vertical-align: top;\n",
       "    }\n",
       "\n",
       "    .dataframe thead th {\n",
       "        text-align: right;\n",
       "    }\n",
       "</style>\n",
       "<table border=\"1\" class=\"dataframe\">\n",
       "  <thead>\n",
       "    <tr style=\"text-align: right;\">\n",
       "      <th></th>\n",
       "      <th>type</th>\n",
       "      <th>ref</th>\n",
       "      <th>allele_coverage</th>\n",
       "      <th>allele_ratio</th>\n",
       "      <th>allele_frequency_%</th>\n",
       "      <th>allele_frequency_%_corrected</th>\n",
       "      <th>zygosity</th>\n",
       "    </tr>\n",
       "  </thead>\n",
       "  <tbody>\n",
       "    <tr>\n",
       "      <th>1</th>\n",
       "      <td>SNV</td>\n",
       "      <td>G</td>\n",
       "      <td>G=217,C=183</td>\n",
       "      <td>G=0.5425,C=0.4575</td>\n",
       "      <td>45.75</td>\n",
       "      <td>54.25</td>\n",
       "      <td>heterozygous</td>\n",
       "    </tr>\n",
       "    <tr>\n",
       "      <th>2</th>\n",
       "      <td>SNV</td>\n",
       "      <td>A</td>\n",
       "      <td>A=0,G=398</td>\n",
       "      <td>A=0.0,G=1.0</td>\n",
       "      <td>100.00</td>\n",
       "      <td>0.00</td>\n",
       "      <td>homozygous</td>\n",
       "    </tr>\n",
       "    <tr>\n",
       "      <th>3</th>\n",
       "      <td>SNV</td>\n",
       "      <td>C</td>\n",
       "      <td>C=202,T=198</td>\n",
       "      <td>C=0.505,T=0.495</td>\n",
       "      <td>49.50</td>\n",
       "      <td>50.50</td>\n",
       "      <td>heterozygous</td>\n",
       "    </tr>\n",
       "    <tr>\n",
       "      <th>4</th>\n",
       "      <td>SNV</td>\n",
       "      <td>G</td>\n",
       "      <td>G=1,A=396</td>\n",
       "      <td>G=0.0025,A=0.9975</td>\n",
       "      <td>99.75</td>\n",
       "      <td>0.25</td>\n",
       "      <td>homozygous</td>\n",
       "    </tr>\n",
       "  </tbody>\n",
       "</table>\n",
       "</div>"
      ],
      "text/plain": [
       "  type ref allele_coverage       allele_ratio allele_frequency_%  \\\n",
       "1  SNV   G     G=217,C=183  G=0.5425,C=0.4575              45.75   \n",
       "2  SNV   A       A=0,G=398        A=0.0,G=1.0             100.00   \n",
       "3  SNV   C     C=202,T=198    C=0.505,T=0.495              49.50   \n",
       "4  SNV   G       G=1,A=396  G=0.0025,A=0.9975              99.75   \n",
       "\n",
       "   allele_frequency_%_corrected      zygosity  \n",
       "1                         54.25  heterozygous  \n",
       "2                          0.00    homozygous  \n",
       "3                         50.50  heterozygous  \n",
       "4                          0.25    homozygous  "
      ]
     },
     "execution_count": 67,
     "metadata": {},
     "output_type": "execute_result"
    }
   ],
   "source": [
    "df.iloc[1:5,cols]"
   ]
  },
  {
   "cell_type": "code",
   "execution_count": 68,
   "id": "748e1404",
   "metadata": {},
   "outputs": [],
   "source": [
    "\n",
    "df_indel = df[df['type'] == 'INDEL']\n"
   ]
  },
  {
   "cell_type": "code",
   "execution_count": null,
   "id": "04a8bdcf",
   "metadata": {},
   "outputs": [],
   "source": []
  },
  {
   "cell_type": "code",
   "execution_count": 69,
   "id": "f21373db",
   "metadata": {},
   "outputs": [
    {
     "name": "stdout",
     "output_type": "stream",
     "text": [
      "9      heterozygous\n",
      "15       homozygous\n",
      "42       homozygous\n",
      "79       homozygous\n",
      "109      homozygous\n",
      "122    heterozygous\n",
      "138      homozygous\n",
      "151      homozygous\n",
      "166    heterozygous\n",
      "Name: allele_frequency_%_corrected, dtype: object\n"
     ]
    },
    {
     "name": "stderr",
     "output_type": "stream",
     "text": [
      "/var/folders/pt/vcfrx50j7vzg3gkz0bt7ykdr0000gn/T/ipykernel_21326/1824082228.py:3: SettingWithCopyWarning: \n",
      "A value is trying to be set on a copy of a slice from a DataFrame.\n",
      "Try using .loc[row_indexer,col_indexer] = value instead\n",
      "\n",
      "See the caveats in the documentation: https://pandas.pydata.org/pandas-docs/stable/user_guide/indexing.html#returning-a-view-versus-a-copy\n",
      "  df_indel['zygosity'] = zygosity\n"
     ]
    },
    {
     "data": {
      "text/html": [
       "<div>\n",
       "<style scoped>\n",
       "    .dataframe tbody tr th:only-of-type {\n",
       "        vertical-align: middle;\n",
       "    }\n",
       "\n",
       "    .dataframe tbody tr th {\n",
       "        vertical-align: top;\n",
       "    }\n",
       "\n",
       "    .dataframe thead th {\n",
       "        text-align: right;\n",
       "    }\n",
       "</style>\n",
       "<table border=\"1\" class=\"dataframe\">\n",
       "  <thead>\n",
       "    <tr style=\"text-align: right;\">\n",
       "      <th></th>\n",
       "      <th>type</th>\n",
       "      <th>ref</th>\n",
       "      <th>allele_coverage</th>\n",
       "      <th>allele_ratio</th>\n",
       "      <th>allele_frequency_%</th>\n",
       "      <th>allele_frequency_%_corrected</th>\n",
       "      <th>zygosity</th>\n",
       "    </tr>\n",
       "  </thead>\n",
       "  <tbody>\n",
       "    <tr>\n",
       "      <th>9</th>\n",
       "      <td>INDEL</td>\n",
       "      <td>C</td>\n",
       "      <td>C=226,CT=173</td>\n",
       "      <td>C=0.5664,CT=0.4336</td>\n",
       "      <td>43.36</td>\n",
       "      <td>56.64</td>\n",
       "      <td>heterozygous</td>\n",
       "    </tr>\n",
       "    <tr>\n",
       "      <th>15</th>\n",
       "      <td>INDEL</td>\n",
       "      <td>GT</td>\n",
       "      <td>GT=0,G=396</td>\n",
       "      <td>GT=0.0,G=1.0</td>\n",
       "      <td>100.00</td>\n",
       "      <td>0.00</td>\n",
       "      <td>homozygous</td>\n",
       "    </tr>\n",
       "    <tr>\n",
       "      <th>42</th>\n",
       "      <td>INDEL</td>\n",
       "      <td>C</td>\n",
       "      <td>C=0,CAA=396</td>\n",
       "      <td>C=0.0,CAA=1.0</td>\n",
       "      <td>100.00</td>\n",
       "      <td>0.00</td>\n",
       "      <td>homozygous</td>\n",
       "    </tr>\n",
       "    <tr>\n",
       "      <th>156</th>\n",
       "      <td>SNV</td>\n",
       "      <td>A</td>\n",
       "      <td>A=0,G=396</td>\n",
       "      <td>A=0.0,G=1.0</td>\n",
       "      <td>100.00</td>\n",
       "      <td>0.00</td>\n",
       "      <td>homozygous</td>\n",
       "    </tr>\n",
       "  </tbody>\n",
       "</table>\n",
       "</div>"
      ],
      "text/plain": [
       "      type ref allele_coverage        allele_ratio allele_frequency_%  \\\n",
       "9    INDEL   C    C=226,CT=173  C=0.5664,CT=0.4336              43.36   \n",
       "15   INDEL  GT      GT=0,G=396        GT=0.0,G=1.0             100.00   \n",
       "42   INDEL   C     C=0,CAA=396       C=0.0,CAA=1.0             100.00   \n",
       "156    SNV   A       A=0,G=396         A=0.0,G=1.0             100.00   \n",
       "\n",
       "     allele_frequency_%_corrected      zygosity  \n",
       "9                           56.64  heterozygous  \n",
       "15                           0.00    homozygous  \n",
       "42                           0.00    homozygous  \n",
       "156                          0.00    homozygous  "
      ]
     },
     "execution_count": 69,
     "metadata": {},
     "output_type": "execute_result"
    }
   ],
   "source": [
    "zygosity = df_indel['allele_frequency_%_corrected'].map(lambda x: 'homozygous' if x < 20 else 'heterozygous')\n",
    "print(zygosity)\n",
    "df_indel['zygosity'] = zygosity\n",
    "df.update(df_indel)\n",
    "df.iloc[[9,15,42,151],cols]"
   ]
  },
  {
   "cell_type": "code",
   "execution_count": null,
   "id": "4f7c815f",
   "metadata": {},
   "outputs": [],
   "source": []
  },
  {
   "cell_type": "code",
   "execution_count": 70,
   "id": "a6e10aa0",
   "metadata": {},
   "outputs": [
    {
     "data": {
      "text/html": [
       "<div>\n",
       "<style scoped>\n",
       "    .dataframe tbody tr th:only-of-type {\n",
       "        vertical-align: middle;\n",
       "    }\n",
       "\n",
       "    .dataframe tbody tr th {\n",
       "        vertical-align: top;\n",
       "    }\n",
       "\n",
       "    .dataframe thead th {\n",
       "        text-align: right;\n",
       "    }\n",
       "</style>\n",
       "<table border=\"1\" class=\"dataframe\">\n",
       "  <thead>\n",
       "    <tr style=\"text-align: right;\">\n",
       "      <th></th>\n",
       "      <th>type</th>\n",
       "      <th>ref</th>\n",
       "      <th>allele_coverage</th>\n",
       "      <th>allele_ratio</th>\n",
       "      <th>allele_frequency_%</th>\n",
       "      <th>allele_frequency_%_corrected</th>\n",
       "      <th>zygosity</th>\n",
       "    </tr>\n",
       "  </thead>\n",
       "  <tbody>\n",
       "    <tr>\n",
       "      <th>1</th>\n",
       "      <td>SNV</td>\n",
       "      <td>G</td>\n",
       "      <td>G=217,C=183</td>\n",
       "      <td>G=0.5425,C=0.4575</td>\n",
       "      <td>45.75</td>\n",
       "      <td>54.25</td>\n",
       "      <td>heterozygous</td>\n",
       "    </tr>\n",
       "    <tr>\n",
       "      <th>2</th>\n",
       "      <td>SNV</td>\n",
       "      <td>A</td>\n",
       "      <td>A=0,G=398</td>\n",
       "      <td>A=0.0,G=1.0</td>\n",
       "      <td>100.00</td>\n",
       "      <td>0.00</td>\n",
       "      <td>homozygous</td>\n",
       "    </tr>\n",
       "    <tr>\n",
       "      <th>3</th>\n",
       "      <td>SNV</td>\n",
       "      <td>C</td>\n",
       "      <td>C=202,T=198</td>\n",
       "      <td>C=0.505,T=0.495</td>\n",
       "      <td>49.50</td>\n",
       "      <td>50.50</td>\n",
       "      <td>heterozygous</td>\n",
       "    </tr>\n",
       "    <tr>\n",
       "      <th>4</th>\n",
       "      <td>SNV</td>\n",
       "      <td>G</td>\n",
       "      <td>G=1,A=396</td>\n",
       "      <td>G=0.0025,A=0.9975</td>\n",
       "      <td>99.75</td>\n",
       "      <td>0.25</td>\n",
       "      <td>homozygous</td>\n",
       "    </tr>\n",
       "  </tbody>\n",
       "</table>\n",
       "</div>"
      ],
      "text/plain": [
       "  type ref allele_coverage       allele_ratio allele_frequency_%  \\\n",
       "1  SNV   G     G=217,C=183  G=0.5425,C=0.4575              45.75   \n",
       "2  SNV   A       A=0,G=398        A=0.0,G=1.0             100.00   \n",
       "3  SNV   C     C=202,T=198    C=0.505,T=0.495              49.50   \n",
       "4  SNV   G       G=1,A=396  G=0.0025,A=0.9975              99.75   \n",
       "\n",
       "   allele_frequency_%_corrected      zygosity  \n",
       "1                         54.25  heterozygous  \n",
       "2                          0.00    homozygous  \n",
       "3                         50.50  heterozygous  \n",
       "4                          0.25    homozygous  "
      ]
     },
     "execution_count": 70,
     "metadata": {},
     "output_type": "execute_result"
    }
   ],
   "source": [
    "df.iloc[1:5,cols]"
   ]
  },
  {
   "cell_type": "code",
   "execution_count": 71,
   "id": "ddbcb1b9",
   "metadata": {},
   "outputs": [],
   "source": [
    "df.to_csv('./processed.tsv', sep='\\t')"
   ]
  },
  {
   "cell_type": "code",
   "execution_count": null,
   "id": "6c6b3cd2",
   "metadata": {},
   "outputs": [],
   "source": []
  }
 ],
 "metadata": {
  "kernelspec": {
   "display_name": "Python 3 (ipykernel)",
   "language": "python",
   "name": "python3"
  },
  "language_info": {
   "codemirror_mode": {
    "name": "ipython",
    "version": 3
   },
   "file_extension": ".py",
   "mimetype": "text/x-python",
   "name": "python",
   "nbconvert_exporter": "python",
   "pygments_lexer": "ipython3",
   "version": "3.10.8"
  }
 },
 "nbformat": 4,
 "nbformat_minor": 5
}
